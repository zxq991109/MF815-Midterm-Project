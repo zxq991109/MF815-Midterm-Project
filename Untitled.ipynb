{
 "cells": [
  {
   "cell_type": "code",
   "execution_count": 1,
   "metadata": {},
   "outputs": [],
   "source": [
    "import pandas as pd\n",
    "import numpy as np\n",
    "from sklearn.model_selection import train_test_split\n",
    "from sklearn.preprocessing import StandardScaler\n",
    "from sklearn.linear_model import LogisticRegression\n",
    "from sklearn.pipeline import Pipeline\n",
    "from sklearn.metrics import roc_curve, roc_auc_score, classification_report, accuracy_score, confusion_matrix \n",
    "from imblearn.under_sampling import RandomUnderSampler\n",
    "from imblearn.over_sampling import RandomOverSampler\n",
    "import seaborn as sns\n",
    "import matplotlib.pyplot as plt\n",
    "import re"
   ]
  },
  {
   "cell_type": "code",
   "execution_count": 24,
   "metadata": {},
   "outputs": [],
   "source": [
    "train = pd.read_csv('train_data.csv')\n",
    "test = pd.read_csv('test_data.csv')"
   ]
  },
  {
   "cell_type": "code",
   "execution_count": 3,
   "metadata": {},
   "outputs": [
    {
     "name": "stdout",
     "output_type": "stream",
     "text": [
      "<class 'pandas.core.frame.DataFrame'>\n",
      "RangeIndex: 174865 entries, 0 to 174864\n",
      "Data columns (total 41 columns):\n",
      " #   Column                               Non-Null Count   Dtype  \n",
      "---  ------                               --------------   -----  \n",
      " 0   UniqueID                             174865 non-null  int64  \n",
      " 1   disbursed_amount                     174865 non-null  int64  \n",
      " 2   asset_cost                           174865 non-null  int64  \n",
      " 3   ltv                                  174865 non-null  float64\n",
      " 4   branch_id                            174865 non-null  int64  \n",
      " 5   supplier_id                          174865 non-null  int64  \n",
      " 6   manufacturer_id                      174865 non-null  int64  \n",
      " 7   Current_pincode_ID                   174865 non-null  int64  \n",
      " 8   Date.of.Birth                        174865 non-null  object \n",
      " 9   Employment.Type                      169186 non-null  object \n",
      " 10  DisbursalDate                        174865 non-null  object \n",
      " 11  State_ID                             174865 non-null  int64  \n",
      " 12  Employee_code_ID                     174865 non-null  int64  \n",
      " 13  MobileNo_Avl_Flag                    174865 non-null  int64  \n",
      " 14  Aadhar_flag                          174865 non-null  int64  \n",
      " 15  PAN_flag                             174865 non-null  int64  \n",
      " 16  VoterID_flag                         174865 non-null  int64  \n",
      " 17  Driving_flag                         174865 non-null  int64  \n",
      " 18  Passport_flag                        174865 non-null  int64  \n",
      " 19  PERFORM_CNS.SCORE                    174865 non-null  int64  \n",
      " 20  PERFORM_CNS.SCORE.DESCRIPTION        174865 non-null  object \n",
      " 21  PRI.NO.OF.ACCTS                      174865 non-null  int64  \n",
      " 22  PRI.ACTIVE.ACCTS                     174865 non-null  int64  \n",
      " 23  PRI.OVERDUE.ACCTS                    174865 non-null  int64  \n",
      " 24  PRI.CURRENT.BALANCE                  174865 non-null  int64  \n",
      " 25  PRI.SANCTIONED.AMOUNT                174865 non-null  int64  \n",
      " 26  PRI.DISBURSED.AMOUNT                 174865 non-null  int64  \n",
      " 27  SEC.NO.OF.ACCTS                      174865 non-null  int64  \n",
      " 28  SEC.ACTIVE.ACCTS                     174865 non-null  int64  \n",
      " 29  SEC.OVERDUE.ACCTS                    174865 non-null  int64  \n",
      " 30  SEC.CURRENT.BALANCE                  174865 non-null  int64  \n",
      " 31  SEC.SANCTIONED.AMOUNT                174865 non-null  int64  \n",
      " 32  SEC.DISBURSED.AMOUNT                 174865 non-null  int64  \n",
      " 33  PRIMARY.INSTAL.AMT                   174865 non-null  int64  \n",
      " 34  SEC.INSTAL.AMT                       174865 non-null  int64  \n",
      " 35  NEW.ACCTS.IN.LAST.SIX.MONTHS         174865 non-null  int64  \n",
      " 36  DELINQUENT.ACCTS.IN.LAST.SIX.MONTHS  174865 non-null  int64  \n",
      " 37  AVERAGE.ACCT.AGE                     174865 non-null  object \n",
      " 38  CREDIT.HISTORY.LENGTH                174865 non-null  object \n",
      " 39  NO.OF_INQUIRIES                      174865 non-null  int64  \n",
      " 40  loan_default                         174865 non-null  int64  \n",
      "dtypes: float64(1), int64(34), object(6)\n",
      "memory usage: 54.7+ MB\n"
     ]
    }
   ],
   "source": [
    "train.info()"
   ]
  },
  {
   "cell_type": "markdown",
   "metadata": {},
   "source": [
    "1. Conduct data preprocessing on the whole training set"
   ]
  },
  {
   "cell_type": "markdown",
   "metadata": {},
   "source": [
    "1.1 Dealing with datetime features"
   ]
  },
  {
   "cell_type": "code",
   "execution_count": 25,
   "metadata": {},
   "outputs": [
    {
     "data": {
      "text/html": [
       "<div>\n",
       "<style scoped>\n",
       "    .dataframe tbody tr th:only-of-type {\n",
       "        vertical-align: middle;\n",
       "    }\n",
       "\n",
       "    .dataframe tbody tr th {\n",
       "        vertical-align: top;\n",
       "    }\n",
       "\n",
       "    .dataframe thead th {\n",
       "        text-align: right;\n",
       "    }\n",
       "</style>\n",
       "<table border=\"1\" class=\"dataframe\">\n",
       "  <thead>\n",
       "    <tr style=\"text-align: right;\">\n",
       "      <th></th>\n",
       "      <th>UniqueID</th>\n",
       "      <th>disbursed_amount</th>\n",
       "      <th>asset_cost</th>\n",
       "      <th>ltv</th>\n",
       "      <th>branch_id</th>\n",
       "      <th>supplier_id</th>\n",
       "      <th>manufacturer_id</th>\n",
       "      <th>Current_pincode_ID</th>\n",
       "      <th>Employment.Type</th>\n",
       "      <th>State_ID</th>\n",
       "      <th>...</th>\n",
       "      <th>Date.of.Birth_year</th>\n",
       "      <th>Date.of.Birth_month</th>\n",
       "      <th>Date.of.Birth_day</th>\n",
       "      <th>DisbursalDate_year</th>\n",
       "      <th>DisbursalDate_month</th>\n",
       "      <th>DisbursalDate_day</th>\n",
       "      <th>AVERAGE.ACCT.AGE_year</th>\n",
       "      <th>AVERAGE.ACCT.AGE_month</th>\n",
       "      <th>CREDIT.HISTORY.LENGTH_year</th>\n",
       "      <th>CREDIT.HISTORY.LENGTH_month</th>\n",
       "    </tr>\n",
       "  </thead>\n",
       "  <tbody>\n",
       "    <tr>\n",
       "      <th>0</th>\n",
       "      <td>555299</td>\n",
       "      <td>41394</td>\n",
       "      <td>75208</td>\n",
       "      <td>57.17</td>\n",
       "      <td>255</td>\n",
       "      <td>23415</td>\n",
       "      <td>45</td>\n",
       "      <td>5829</td>\n",
       "      <td>Self employed</td>\n",
       "      <td>3</td>\n",
       "      <td>...</td>\n",
       "      <td>1968</td>\n",
       "      <td>2</td>\n",
       "      <td>14</td>\n",
       "      <td>2018</td>\n",
       "      <td>10</td>\n",
       "      <td>3</td>\n",
       "      <td>0</td>\n",
       "      <td>0</td>\n",
       "      <td>0</td>\n",
       "      <td>0</td>\n",
       "    </tr>\n",
       "    <tr>\n",
       "      <th>1</th>\n",
       "      <td>611197</td>\n",
       "      <td>64213</td>\n",
       "      <td>87691</td>\n",
       "      <td>74.12</td>\n",
       "      <td>19</td>\n",
       "      <td>14375</td>\n",
       "      <td>86</td>\n",
       "      <td>1876</td>\n",
       "      <td>Self employed</td>\n",
       "      <td>4</td>\n",
       "      <td>...</td>\n",
       "      <td>1987</td>\n",
       "      <td>7</td>\n",
       "      <td>15</td>\n",
       "      <td>2018</td>\n",
       "      <td>10</td>\n",
       "      <td>24</td>\n",
       "      <td>0</td>\n",
       "      <td>0</td>\n",
       "      <td>0</td>\n",
       "      <td>0</td>\n",
       "    </tr>\n",
       "    <tr>\n",
       "      <th>2</th>\n",
       "      <td>433544</td>\n",
       "      <td>73423</td>\n",
       "      <td>98158</td>\n",
       "      <td>76.31</td>\n",
       "      <td>67</td>\n",
       "      <td>21308</td>\n",
       "      <td>86</td>\n",
       "      <td>1435</td>\n",
       "      <td>Salaried</td>\n",
       "      <td>6</td>\n",
       "      <td>...</td>\n",
       "      <td>1994</td>\n",
       "      <td>6</td>\n",
       "      <td>2</td>\n",
       "      <td>2018</td>\n",
       "      <td>8</td>\n",
       "      <td>11</td>\n",
       "      <td>2</td>\n",
       "      <td>1</td>\n",
       "      <td>2</td>\n",
       "      <td>1</td>\n",
       "    </tr>\n",
       "    <tr>\n",
       "      <th>3</th>\n",
       "      <td>648093</td>\n",
       "      <td>53146</td>\n",
       "      <td>63841</td>\n",
       "      <td>88.97</td>\n",
       "      <td>79</td>\n",
       "      <td>17507</td>\n",
       "      <td>45</td>\n",
       "      <td>738</td>\n",
       "      <td>Self employed</td>\n",
       "      <td>18</td>\n",
       "      <td>...</td>\n",
       "      <td>1974</td>\n",
       "      <td>6</td>\n",
       "      <td>14</td>\n",
       "      <td>2018</td>\n",
       "      <td>10</td>\n",
       "      <td>31</td>\n",
       "      <td>0</td>\n",
       "      <td>0</td>\n",
       "      <td>0</td>\n",
       "      <td>0</td>\n",
       "    </tr>\n",
       "    <tr>\n",
       "      <th>4</th>\n",
       "      <td>461365</td>\n",
       "      <td>54113</td>\n",
       "      <td>66542</td>\n",
       "      <td>83.41</td>\n",
       "      <td>18</td>\n",
       "      <td>22832</td>\n",
       "      <td>45</td>\n",
       "      <td>2708</td>\n",
       "      <td>Salaried</td>\n",
       "      <td>4</td>\n",
       "      <td>...</td>\n",
       "      <td>1979</td>\n",
       "      <td>8</td>\n",
       "      <td>8</td>\n",
       "      <td>2018</td>\n",
       "      <td>8</td>\n",
       "      <td>24</td>\n",
       "      <td>1</td>\n",
       "      <td>0</td>\n",
       "      <td>1</td>\n",
       "      <td>6</td>\n",
       "    </tr>\n",
       "    <tr>\n",
       "      <th>...</th>\n",
       "      <td>...</td>\n",
       "      <td>...</td>\n",
       "      <td>...</td>\n",
       "      <td>...</td>\n",
       "      <td>...</td>\n",
       "      <td>...</td>\n",
       "      <td>...</td>\n",
       "      <td>...</td>\n",
       "      <td>...</td>\n",
       "      <td>...</td>\n",
       "      <td>...</td>\n",
       "      <td>...</td>\n",
       "      <td>...</td>\n",
       "      <td>...</td>\n",
       "      <td>...</td>\n",
       "      <td>...</td>\n",
       "      <td>...</td>\n",
       "      <td>...</td>\n",
       "      <td>...</td>\n",
       "      <td>...</td>\n",
       "      <td>...</td>\n",
       "    </tr>\n",
       "    <tr>\n",
       "      <th>174860</th>\n",
       "      <td>478886</td>\n",
       "      <td>56651</td>\n",
       "      <td>68697</td>\n",
       "      <td>85.00</td>\n",
       "      <td>3</td>\n",
       "      <td>15513</td>\n",
       "      <td>86</td>\n",
       "      <td>14</td>\n",
       "      <td>Self employed</td>\n",
       "      <td>1</td>\n",
       "      <td>...</td>\n",
       "      <td>1965</td>\n",
       "      <td>9</td>\n",
       "      <td>29</td>\n",
       "      <td>2018</td>\n",
       "      <td>8</td>\n",
       "      <td>30</td>\n",
       "      <td>1</td>\n",
       "      <td>6</td>\n",
       "      <td>3</td>\n",
       "      <td>1</td>\n",
       "    </tr>\n",
       "    <tr>\n",
       "      <th>174861</th>\n",
       "      <td>485393</td>\n",
       "      <td>49608</td>\n",
       "      <td>58466</td>\n",
       "      <td>88.94</td>\n",
       "      <td>61</td>\n",
       "      <td>15897</td>\n",
       "      <td>45</td>\n",
       "      <td>1323</td>\n",
       "      <td>Salaried</td>\n",
       "      <td>6</td>\n",
       "      <td>...</td>\n",
       "      <td>1961</td>\n",
       "      <td>5</td>\n",
       "      <td>9</td>\n",
       "      <td>2018</td>\n",
       "      <td>8</td>\n",
       "      <td>31</td>\n",
       "      <td>0</td>\n",
       "      <td>0</td>\n",
       "      <td>0</td>\n",
       "      <td>0</td>\n",
       "    </tr>\n",
       "    <tr>\n",
       "      <th>174862</th>\n",
       "      <td>503503</td>\n",
       "      <td>47145</td>\n",
       "      <td>65439</td>\n",
       "      <td>74.88</td>\n",
       "      <td>48</td>\n",
       "      <td>23601</td>\n",
       "      <td>45</td>\n",
       "      <td>6296</td>\n",
       "      <td>Self employed</td>\n",
       "      <td>5</td>\n",
       "      <td>...</td>\n",
       "      <td>1972</td>\n",
       "      <td>1</td>\n",
       "      <td>1</td>\n",
       "      <td>2018</td>\n",
       "      <td>9</td>\n",
       "      <td>14</td>\n",
       "      <td>0</td>\n",
       "      <td>0</td>\n",
       "      <td>0</td>\n",
       "      <td>0</td>\n",
       "    </tr>\n",
       "    <tr>\n",
       "      <th>174863</th>\n",
       "      <td>618661</td>\n",
       "      <td>50578</td>\n",
       "      <td>73000</td>\n",
       "      <td>71.23</td>\n",
       "      <td>248</td>\n",
       "      <td>14791</td>\n",
       "      <td>45</td>\n",
       "      <td>1787</td>\n",
       "      <td>Salaried</td>\n",
       "      <td>4</td>\n",
       "      <td>...</td>\n",
       "      <td>1983</td>\n",
       "      <td>1</td>\n",
       "      <td>21</td>\n",
       "      <td>2018</td>\n",
       "      <td>10</td>\n",
       "      <td>25</td>\n",
       "      <td>0</td>\n",
       "      <td>0</td>\n",
       "      <td>0</td>\n",
       "      <td>0</td>\n",
       "    </tr>\n",
       "    <tr>\n",
       "      <th>174864</th>\n",
       "      <td>434944</td>\n",
       "      <td>63882</td>\n",
       "      <td>93581</td>\n",
       "      <td>70.53</td>\n",
       "      <td>20</td>\n",
       "      <td>22809</td>\n",
       "      <td>48</td>\n",
       "      <td>6180</td>\n",
       "      <td>Self employed</td>\n",
       "      <td>5</td>\n",
       "      <td>...</td>\n",
       "      <td>1996</td>\n",
       "      <td>1</td>\n",
       "      <td>1</td>\n",
       "      <td>2018</td>\n",
       "      <td>8</td>\n",
       "      <td>12</td>\n",
       "      <td>0</td>\n",
       "      <td>0</td>\n",
       "      <td>0</td>\n",
       "      <td>0</td>\n",
       "    </tr>\n",
       "  </tbody>\n",
       "</table>\n",
       "<p>174865 rows × 47 columns</p>\n",
       "</div>"
      ],
      "text/plain": [
       "        UniqueID  disbursed_amount  asset_cost    ltv  branch_id  supplier_id  \\\n",
       "0         555299             41394       75208  57.17        255        23415   \n",
       "1         611197             64213       87691  74.12         19        14375   \n",
       "2         433544             73423       98158  76.31         67        21308   \n",
       "3         648093             53146       63841  88.97         79        17507   \n",
       "4         461365             54113       66542  83.41         18        22832   \n",
       "...          ...               ...         ...    ...        ...          ...   \n",
       "174860    478886             56651       68697  85.00          3        15513   \n",
       "174861    485393             49608       58466  88.94         61        15897   \n",
       "174862    503503             47145       65439  74.88         48        23601   \n",
       "174863    618661             50578       73000  71.23        248        14791   \n",
       "174864    434944             63882       93581  70.53         20        22809   \n",
       "\n",
       "        manufacturer_id  Current_pincode_ID Employment.Type  State_ID  ...  \\\n",
       "0                    45                5829   Self employed         3  ...   \n",
       "1                    86                1876   Self employed         4  ...   \n",
       "2                    86                1435        Salaried         6  ...   \n",
       "3                    45                 738   Self employed        18  ...   \n",
       "4                    45                2708        Salaried         4  ...   \n",
       "...                 ...                 ...             ...       ...  ...   \n",
       "174860               86                  14   Self employed         1  ...   \n",
       "174861               45                1323        Salaried         6  ...   \n",
       "174862               45                6296   Self employed         5  ...   \n",
       "174863               45                1787        Salaried         4  ...   \n",
       "174864               48                6180   Self employed         5  ...   \n",
       "\n",
       "        Date.of.Birth_year  Date.of.Birth_month  Date.of.Birth_day  \\\n",
       "0                     1968                    2                 14   \n",
       "1                     1987                    7                 15   \n",
       "2                     1994                    6                  2   \n",
       "3                     1974                    6                 14   \n",
       "4                     1979                    8                  8   \n",
       "...                    ...                  ...                ...   \n",
       "174860                1965                    9                 29   \n",
       "174861                1961                    5                  9   \n",
       "174862                1972                    1                  1   \n",
       "174863                1983                    1                 21   \n",
       "174864                1996                    1                  1   \n",
       "\n",
       "        DisbursalDate_year  DisbursalDate_month  DisbursalDate_day  \\\n",
       "0                     2018                   10                  3   \n",
       "1                     2018                   10                 24   \n",
       "2                     2018                    8                 11   \n",
       "3                     2018                   10                 31   \n",
       "4                     2018                    8                 24   \n",
       "...                    ...                  ...                ...   \n",
       "174860                2018                    8                 30   \n",
       "174861                2018                    8                 31   \n",
       "174862                2018                    9                 14   \n",
       "174863                2018                   10                 25   \n",
       "174864                2018                    8                 12   \n",
       "\n",
       "        AVERAGE.ACCT.AGE_year  AVERAGE.ACCT.AGE_month  \\\n",
       "0                           0                       0   \n",
       "1                           0                       0   \n",
       "2                           2                       1   \n",
       "3                           0                       0   \n",
       "4                           1                       0   \n",
       "...                       ...                     ...   \n",
       "174860                      1                       6   \n",
       "174861                      0                       0   \n",
       "174862                      0                       0   \n",
       "174863                      0                       0   \n",
       "174864                      0                       0   \n",
       "\n",
       "       CREDIT.HISTORY.LENGTH_year  CREDIT.HISTORY.LENGTH_month  \n",
       "0                               0                            0  \n",
       "1                               0                            0  \n",
       "2                               2                            1  \n",
       "3                               0                            0  \n",
       "4                               1                            6  \n",
       "...                           ...                          ...  \n",
       "174860                          3                            1  \n",
       "174861                          0                            0  \n",
       "174862                          0                            0  \n",
       "174863                          0                            0  \n",
       "174864                          0                            0  \n",
       "\n",
       "[174865 rows x 47 columns]"
      ]
     },
     "execution_count": 25,
     "metadata": {},
     "output_type": "execute_result"
    }
   ],
   "source": [
    "df = train.copy()\n",
    "\n",
    "# Extract the year, month, day of datetime features\n",
    "df['Date.of.Birth'] = pd.to_datetime(df['Date.of.Birth'], format=\"%d/%m/%Y\")\n",
    "df['Date.of.Birth_year'] = df['Date.of.Birth'].apply(lambda s: s.year, 1)  \n",
    "df['Date.of.Birth_month'] = df['Date.of.Birth'].apply(lambda s: s.month, 1)\n",
    "df['Date.of.Birth_day'] = df['Date.of.Birth'].apply(lambda s: s.day, 1)\n",
    "\n",
    "df['DisbursalDate'] = pd.to_datetime(df['DisbursalDate'], format=\"%d/%m/%Y\")\n",
    "df['DisbursalDate_year'] = df['DisbursalDate'].apply(lambda s: s.year, 1)  \n",
    "df['DisbursalDate_month'] = df['DisbursalDate'].apply(lambda s: s.month, 1)\n",
    "df['DisbursalDate_day'] = df['DisbursalDate'].apply(lambda s: s.day, 1)\n",
    "\n",
    "df['AVERAGE.ACCT.AGE_year'] = df['AVERAGE.ACCT.AGE'].apply(lambda s: re.search('(.+?)yrs', s).group(1), 1)\n",
    "df['AVERAGE.ACCT.AGE_month'] = df['AVERAGE.ACCT.AGE'].apply(lambda s: re.search('yrs (.+?)mon', s).group(1), 1)\n",
    "df['CREDIT.HISTORY.LENGTH_year'] = df['CREDIT.HISTORY.LENGTH'].apply(lambda s: re.search('(.+?)yrs', s).group(1), 1)\n",
    "df['CREDIT.HISTORY.LENGTH_month'] = df['CREDIT.HISTORY.LENGTH'].apply(lambda s: re.search('yrs (.+?)mon', s).group(1), 1)\n",
    "\n",
    "# # Convert the type of newly generated features into numeric\n",
    "df.loc[:,['AVERAGE.ACCT.AGE_year',\n",
    "   'AVERAGE.ACCT.AGE_month',                                                       \n",
    "   'CREDIT.HISTORY.LENGTH_year',                                                   \n",
    "   'CREDIT.HISTORY.LENGTH_month']] = df.loc[:,['AVERAGE.ACCT.AGE_year',\n",
    "   'AVERAGE.ACCT.AGE_month',                                                       \n",
    "   'CREDIT.HISTORY.LENGTH_year',                                                   \n",
    "   'CREDIT.HISTORY.LENGTH_month']].apply(lambda s:pd.to_numeric(s),1)\n",
    "\n",
    "# Drop the original categorical features\n",
    "df.drop(['Date.of.Birth',                      \n",
    "'DisbursalDate', \n",
    "'AVERAGE.ACCT.AGE',                   \n",
    "'CREDIT.HISTORY.LENGTH'], axis=1, inplace=True)\n",
    "df"
   ]
  },
  {
   "cell_type": "code",
   "execution_count": 26,
   "metadata": {},
   "outputs": [],
   "source": [
    "# Replace Date.of.Birth_year with years since Date.of.Birth till now\n",
    "df['yrs_since_birth'] = pd.to_datetime('2022-03-22').year - df['Date.of.Birth_year']   \n",
    "df.drop('Date.of.Birth_year', axis=1, inplace=True)\n",
    "\n",
    "# Drop DisbursalDate_year since it only contains one value: 2018\n",
    "df.drop('DisbursalDate_year', axis=1, inplace=True)   "
   ]
  },
  {
   "cell_type": "markdown",
   "metadata": {},
   "source": [
    "1.2 Convert categorical values into dummies"
   ]
  },
  {
   "cell_type": "code",
   "execution_count": 66,
   "metadata": {},
   "outputs": [
    {
     "data": {
      "text/plain": [
       "Self employed    95745\n",
       "Salaried         73441\n",
       "Name: Employment.Type, dtype: int64"
      ]
     },
     "execution_count": 66,
     "metadata": {},
     "output_type": "execute_result"
    }
   ],
   "source": [
    "# Take a look at the distribution of all possible values of the column with missing values\n",
    "df['Employment.Type'].value_counts()"
   ]
  },
  {
   "cell_type": "code",
   "execution_count": 27,
   "metadata": {},
   "outputs": [
    {
     "data": {
      "text/plain": [
       "Self employed    101424\n",
       "Salaried          73441\n",
       "Name: Employment.Type, dtype: int64"
      ]
     },
     "execution_count": 27,
     "metadata": {},
     "output_type": "execute_result"
    }
   ],
   "source": [
    "# Fill the missing values of Employment.Type with the most frequent type\n",
    "df['Employment.Type'].fillna(df['Employment.Type'].mode()[0], inplace=True)\n",
    "df['Employment.Type'].value_counts()"
   ]
  },
  {
   "cell_type": "code",
   "execution_count": 28,
   "metadata": {},
   "outputs": [],
   "source": [
    "# Convert the categorical features into dummies and replace the original features in the dataframe\n",
    "df_dummies = [pd.get_dummies(df['PERFORM_CNS.SCORE.DESCRIPTION'], prefix = 'PERFORM_CNS.SCORE', prefix_sep = ' : '),\n",
    "              pd.get_dummies(df['Employment.Type'], prefix = 'Employment.Type', prefix_sep = ' : ')]\n",
    "df_dummies = pd.concat(df_dummies, axis = 1)\n",
    "df = pd.concat([df, df_dummies], axis = 1)\n",
    "df.drop(['PERFORM_CNS.SCORE.DESCRIPTION',                      \n",
    "'Employment.Type'], axis=1, inplace=True)"
   ]
  },
  {
   "cell_type": "code",
   "execution_count": 64,
   "metadata": {
    "collapsed": true
   },
   "outputs": [
    {
     "name": "stdout",
     "output_type": "stream",
     "text": [
      "<class 'pandas.core.frame.DataFrame'>\n",
      "RangeIndex: 174865 entries, 0 to 174864\n",
      "Data columns (total 66 columns):\n",
      " #   Column                                                                       Non-Null Count   Dtype  \n",
      "---  ------                                                                       --------------   -----  \n",
      " 0   UniqueID                                                                     174865 non-null  int64  \n",
      " 1   disbursed_amount                                                             174865 non-null  int64  \n",
      " 2   asset_cost                                                                   174865 non-null  int64  \n",
      " 3   ltv                                                                          174865 non-null  float64\n",
      " 4   branch_id                                                                    174865 non-null  int64  \n",
      " 5   supplier_id                                                                  174865 non-null  int64  \n",
      " 6   manufacturer_id                                                              174865 non-null  int64  \n",
      " 7   Current_pincode_ID                                                           174865 non-null  int64  \n",
      " 8   State_ID                                                                     174865 non-null  int64  \n",
      " 9   Employee_code_ID                                                             174865 non-null  int64  \n",
      " 10  MobileNo_Avl_Flag                                                            174865 non-null  int64  \n",
      " 11  Aadhar_flag                                                                  174865 non-null  int64  \n",
      " 12  PAN_flag                                                                     174865 non-null  int64  \n",
      " 13  VoterID_flag                                                                 174865 non-null  int64  \n",
      " 14  Driving_flag                                                                 174865 non-null  int64  \n",
      " 15  Passport_flag                                                                174865 non-null  int64  \n",
      " 16  PERFORM_CNS.SCORE                                                            174865 non-null  int64  \n",
      " 17  PRI.NO.OF.ACCTS                                                              174865 non-null  int64  \n",
      " 18  PRI.ACTIVE.ACCTS                                                             174865 non-null  int64  \n",
      " 19  PRI.OVERDUE.ACCTS                                                            174865 non-null  int64  \n",
      " 20  PRI.CURRENT.BALANCE                                                          174865 non-null  int64  \n",
      " 21  PRI.SANCTIONED.AMOUNT                                                        174865 non-null  int64  \n",
      " 22  PRI.DISBURSED.AMOUNT                                                         174865 non-null  int64  \n",
      " 23  SEC.NO.OF.ACCTS                                                              174865 non-null  int64  \n",
      " 24  SEC.ACTIVE.ACCTS                                                             174865 non-null  int64  \n",
      " 25  SEC.OVERDUE.ACCTS                                                            174865 non-null  int64  \n",
      " 26  SEC.CURRENT.BALANCE                                                          174865 non-null  int64  \n",
      " 27  SEC.SANCTIONED.AMOUNT                                                        174865 non-null  int64  \n",
      " 28  SEC.DISBURSED.AMOUNT                                                         174865 non-null  int64  \n",
      " 29  PRIMARY.INSTAL.AMT                                                           174865 non-null  int64  \n",
      " 30  SEC.INSTAL.AMT                                                               174865 non-null  int64  \n",
      " 31  NEW.ACCTS.IN.LAST.SIX.MONTHS                                                 174865 non-null  int64  \n",
      " 32  DELINQUENT.ACCTS.IN.LAST.SIX.MONTHS                                          174865 non-null  int64  \n",
      " 33  NO.OF_INQUIRIES                                                              174865 non-null  int64  \n",
      " 34  loan_default                                                                 174865 non-null  int64  \n",
      " 35  Date.of.Birth_month                                                          174865 non-null  int64  \n",
      " 36  Date.of.Birth_day                                                            174865 non-null  int64  \n",
      " 37  DisbursalDate_month                                                          174865 non-null  int64  \n",
      " 38  DisbursalDate_day                                                            174865 non-null  int64  \n",
      " 39  AVERAGE.ACCT.AGE_year                                                        174865 non-null  int64  \n",
      " 40  AVERAGE.ACCT.AGE_month                                                       174865 non-null  int64  \n",
      " 41  CREDIT.HISTORY.LENGTH_year                                                   174865 non-null  int64  \n",
      " 42  CREDIT.HISTORY.LENGTH_month                                                  174865 non-null  int64  \n",
      " 43  yrs_since_birth                                                              174865 non-null  int64  \n",
      " 44  PERFORM_CNS.SCORE : A-Very Low Risk                                          174865 non-null  uint8  \n",
      " 45  PERFORM_CNS.SCORE : B-Very Low Risk                                          174865 non-null  uint8  \n",
      " 46  PERFORM_CNS.SCORE : C-Very Low Risk                                          174865 non-null  uint8  \n",
      " 47  PERFORM_CNS.SCORE : D-Very Low Risk                                          174865 non-null  uint8  \n",
      " 48  PERFORM_CNS.SCORE : E-Low Risk                                               174865 non-null  uint8  \n",
      " 49  PERFORM_CNS.SCORE : F-Low Risk                                               174865 non-null  uint8  \n",
      " 50  PERFORM_CNS.SCORE : G-Low Risk                                               174865 non-null  uint8  \n",
      " 51  PERFORM_CNS.SCORE : H-Medium Risk                                            174865 non-null  uint8  \n",
      " 52  PERFORM_CNS.SCORE : I-Medium Risk                                            174865 non-null  uint8  \n",
      " 53  PERFORM_CNS.SCORE : J-High Risk                                              174865 non-null  uint8  \n",
      " 54  PERFORM_CNS.SCORE : K-High Risk                                              174865 non-null  uint8  \n",
      " 55  PERFORM_CNS.SCORE : L-Very High Risk                                         174865 non-null  uint8  \n",
      " 56  PERFORM_CNS.SCORE : M-Very High Risk                                         174865 non-null  uint8  \n",
      " 57  PERFORM_CNS.SCORE : No Bureau History Available                              174865 non-null  uint8  \n",
      " 58  PERFORM_CNS.SCORE : Not Scored: More than 50 active Accounts found           174865 non-null  uint8  \n",
      " 59  PERFORM_CNS.SCORE : Not Scored: No Activity seen on the customer (Inactive)  174865 non-null  uint8  \n",
      " 60  PERFORM_CNS.SCORE : Not Scored: No Updates available in last 36 months       174865 non-null  uint8  \n",
      " 61  PERFORM_CNS.SCORE : Not Scored: Not Enough Info available on the customer    174865 non-null  uint8  \n",
      " 62  PERFORM_CNS.SCORE : Not Scored: Only a Guarantor                             174865 non-null  uint8  \n",
      " 63  PERFORM_CNS.SCORE : Not Scored: Sufficient History Not Available             174865 non-null  uint8  \n",
      " 64  Employment.Type : Salaried                                                   174865 non-null  uint8  \n",
      " 65  Employment.Type : Self employed                                              174865 non-null  uint8  \n",
      "dtypes: float64(1), int64(43), uint8(22)\n",
      "memory usage: 62.4 MB\n"
     ]
    }
   ],
   "source": [
    "# Take a look at all columns of df to see if after data cleansing and preprocessing\n",
    "df.info()"
   ]
  },
  {
   "cell_type": "code",
   "execution_count": 90,
   "metadata": {
    "collapsed": true
   },
   "outputs": [
    {
     "data": {
      "text/plain": [
       "0    136748\n",
       "1     38117\n",
       "Name: loan_default, dtype: int64"
      ]
     },
     "execution_count": 90,
     "metadata": {},
     "output_type": "execute_result"
    }
   ],
   "source": [
    "# Look st the distribution of the target variable\n",
    "df.loan_default.value_counts()"
   ]
  },
  {
   "cell_type": "code",
   "execution_count": 91,
   "metadata": {},
   "outputs": [
    {
     "data": {
      "text/plain": [
       "3.5875855917307238"
      ]
     },
     "execution_count": 91,
     "metadata": {},
     "output_type": "execute_result"
    }
   ],
   "source": [
    "# Highly imbalanced Y\n",
    "136748/38117"
   ]
  },
  {
   "cell_type": "code",
   "execution_count": 89,
   "metadata": {
    "scrolled": true
   },
   "outputs": [
    {
     "data": {
      "image/png": "[encoded data removed]",
      "text/plain": [
       "<Figure size 504x360 with 1 Axes>"
      ]
     },
     "metadata": {
      "needs_background": "light"
     },
     "output_type": "display_data"
    }
   ],
   "source": [
    "# Plot out the distribution of the two classes in the Y variable\n",
    "f, ax = plt.subplots(figsize=(7, 5))\n",
    "sns.countplot(x='loan_default', data=df)\n",
    "_ = plt.title('# Default vs NonDefault')\n",
    "_ = plt.xlabel('Class (1==Default)')"
   ]
  },
  {
   "cell_type": "markdown",
   "metadata": {},
   "source": [
    "We can see that the two classes are distributed imbalanced. We can apply oversampling to the minority class in the training data to solve the problem."
   ]
  },
  {
   "cell_type": "code",
   "execution_count": 29,
   "metadata": {},
   "outputs": [],
   "source": [
    "# Split the data into X and Y\n",
    "X = df.drop(columns='loan_default', axis=1)\n",
    "y = df.loan_default.values"
   ]
  },
  {
   "cell_type": "code",
   "execution_count": 92,
   "metadata": {
    "collapsed": true
   },
   "outputs": [
    {
     "data": {
      "text/plain": [
       "<AxesSubplot:>"
      ]
     },
     "execution_count": 92,
     "metadata": {},
     "output_type": "execute_result"
    },
    {
     "data": {
      "image/png": "[encoded data removed]",
      "text/plain": [
       "<Figure size 792x648 with 2 Axes>"
      ]
     },
     "metadata": {
      "needs_background": "light"
     },
     "output_type": "display_data"
    }
   ],
   "source": [
    "# Check if there's multicollearity in X\n",
    "corr = X.corr()\n",
    "\n",
    "mask = np.zeros_like(corr, dtype=np.bool)\n",
    "mask[np.triu_indices_from(mask)] = True\n",
    "\n",
    "cmap = sns.diverging_palette(220, 10, as_cmap=True)\n",
    "\n",
    "# Draw the heatmap with the mask and correct aspect ratio\n",
    "f, ax = plt.subplots(figsize=(11, 9))\n",
    "sns.heatmap(corr, mask=mask, cmap=cmap, vmax=.3, center=0,\n",
    "            square=True, linewidths=.5, cbar_kws={\"shrink\": .5})"
   ]
  },
  {
   "cell_type": "markdown",
   "metadata": {},
   "source": [
    "From the heatmap we can see, there's no severe multicollinarity problem in the data."
   ]
  },
  {
   "cell_type": "markdown",
   "metadata": {},
   "source": [
    "2. Split the training set into train and valid sets"
   ]
  },
  {
   "cell_type": "code",
   "execution_count": 30,
   "metadata": {},
   "outputs": [],
   "source": [
    "# Split the training data into train and valid sets\n",
    "np.random.seed(42)\n",
    "X_train, X_valid, y_train, y_valid = train_test_split(X, y)"
   ]
  },
  {
   "cell_type": "code",
   "execution_count": 100,
   "metadata": {},
   "outputs": [
    {
     "data": {
      "text/plain": [
       "3.6031378329998947"
      ]
     },
     "execution_count": 100,
     "metadata": {},
     "output_type": "execute_result"
    }
   ],
   "source": [
    "(len(y_train)-sum(y_train)) /sum(y_train) # the distribution of two classes"
   ]
  },
  {
   "cell_type": "code",
   "execution_count": 31,
   "metadata": {},
   "outputs": [
    {
     "data": {
      "text/plain": [
       "1.0"
      ]
     },
     "execution_count": 31,
     "metadata": {},
     "output_type": "execute_result"
    }
   ],
   "source": [
    "# Oversampling minority class\n",
    "\n",
    "oversample = RandomOverSampler(sampling_strategy='minority')\n",
    "\n",
    "X_resampled, y_resampled = oversample.fit_resample(X_train, y_train)\n",
    "\n",
    "(len(y_resampled)-sum(y_resampled)) /sum(y_resampled)   # the distribution of two classes after oversampling"
   ]
  },
  {
   "cell_type": "markdown",
   "metadata": {},
   "source": [
    "3. Model construction"
   ]
  },
  {
   "cell_type": "markdown",
   "metadata": {},
   "source": [
    "3.1 Logistic Regression"
   ]
  },
  {
   "cell_type": "markdown",
   "metadata": {},
   "source": [
    "Since the target variable is a binary variable whose value can only be 0 or 1, we use lr as a baseline model and hope to see performance improvements in the other models. "
   ]
  },
  {
   "cell_type": "code",
   "execution_count": 10,
   "metadata": {},
   "outputs": [],
   "source": [
    "scaler = StandardScaler()\n",
    "lr = LogisticRegression()\n",
    "model1 = Pipeline([('standardize', scaler),\n",
    "                    ('log_reg', lr)])"
   ]
  },
  {
   "cell_type": "code",
   "execution_count": 16,
   "metadata": {},
   "outputs": [
    {
     "name": "stderr",
     "output_type": "stream",
     "text": [
      "/Users/xingqizhong/opt/anaconda3/lib/python3.8/site-packages/sklearn/linear_model/_logistic.py:814: ConvergenceWarning: lbfgs failed to converge (status=1):\n",
      "STOP: TOTAL NO. of ITERATIONS REACHED LIMIT.\n",
      "\n",
      "Increase the number of iterations (max_iter) or scale the data as shown in:\n",
      "    https://scikit-learn.org/stable/modules/preprocessing.html\n",
      "Please also refer to the documentation for alternative solver options:\n",
      "    https://scikit-learn.org/stable/modules/linear_model.html#logistic-regression\n",
      "  n_iter_i = _check_optimize_result(\n"
     ]
    },
    {
     "data": {
      "text/plain": [
       "Pipeline(steps=[('standardize', StandardScaler()),\n",
       "                ('log_reg', LogisticRegression())])"
      ]
     },
     "execution_count": 16,
     "metadata": {},
     "output_type": "execute_result"
    }
   ],
   "source": [
    "model1.fit(X_resampled, y_resampled)"
   ]
  },
  {
   "cell_type": "code",
   "execution_count": 17,
   "metadata": {},
   "outputs": [
    {
     "name": "stdout",
     "output_type": "stream",
     "text": [
      "Confusion matrix:\n",
      " [[58202 44455]\n",
      " [37126 65531]]\n",
      "Training accuracy: 60.2653 %\n",
      "Training AUC: 64.3509 %\n"
     ]
    }
   ],
   "source": [
    "# Model performance\n",
    "y_train_hat = model1.predict(X_resampled)\n",
    "y_train_hat_probs = model1.predict_proba(X_resampled)[:,1]\n",
    "train_accuracy = accuracy_score(y_resampled, y_train_hat)*100\n",
    "train_auc_roc = roc_auc_score(y_resampled, y_train_hat_probs)*100\n",
    "print('Confusion matrix:\\n', confusion_matrix(y_resampled, y_train_hat))\n",
    "print('Training accuracy: %.4f %%' % train_accuracy)\n",
    "print('Training AUC: %.4f %%' % train_auc_roc)"
   ]
  },
  {
   "cell_type": "code",
   "execution_count": 18,
   "metadata": {},
   "outputs": [
    {
     "name": "stdout",
     "output_type": "stream",
     "text": [
      "Confusion matrix:\n",
      " [[19215 14876]\n",
      " [ 3550  6076]]\n",
      "Testing accuracy: 57.8516 %\n",
      "Testing AUC: 63.6966 %\n"
     ]
    }
   ],
   "source": [
    "y_test_hat = model1.predict(X_valid)\n",
    "y_test_hat_probs = model1.predict_proba(X_valid)[:,1]\n",
    "test_accuracy = accuracy_score(y_valid, y_test_hat)*100\n",
    "test_auc_roc = roc_auc_score(y_valid, y_test_hat_probs)*100\n",
    "print('Confusion matrix:\\n', confusion_matrix(y_valid, y_test_hat))\n",
    "print('Testing accuracy: %.4f %%' % test_accuracy)\n",
    "print('Testing AUC: %.4f %%' % test_auc_roc)"
   ]
  },
  {
   "cell_type": "code",
   "execution_count": 19,
   "metadata": {},
   "outputs": [
    {
     "name": "stdout",
     "output_type": "stream",
     "text": [
      "              precision    recall  f1-score   support\n",
      "\n",
      "           0   0.844059  0.563638  0.675918     34091\n",
      "           1   0.289996  0.631207  0.397410      9626\n",
      "\n",
      "    accuracy                       0.578516     43717\n",
      "   macro avg   0.567028  0.597423  0.536664     43717\n",
      "weighted avg   0.722060  0.578516  0.614594     43717\n",
      "\n"
     ]
    }
   ],
   "source": [
    "print(classification_report(y_valid, y_test_hat, digits=6))"
   ]
  },
  {
   "cell_type": "markdown",
   "metadata": {},
   "source": [
    "We can see that the f1 score of samples with 1-label is 0.397. The recall is good to be 0.63, but the precision is somehow low at 0.28."
   ]
  },
  {
   "cell_type": "code",
   "execution_count": 20,
   "metadata": {},
   "outputs": [
    {
     "data": {
      "text/plain": [
       "(174865, 66)"
      ]
     },
     "execution_count": 20,
     "metadata": {},
     "output_type": "execute_result"
    }
   ],
   "source": [
    "df.shape"
   ]
  },
  {
   "cell_type": "markdown",
   "metadata": {},
   "source": [
    "Since we have a large data set, and the data dimension also has quite a few, we consider tree-based models like random forest and boosting trees for prediction."
   ]
  },
  {
   "cell_type": "markdown",
   "metadata": {},
   "source": [
    "Before we construct tree-based models, check the distribution of the newly added categorical variable once more."
   ]
  },
  {
   "cell_type": "code",
   "execution_count": 86,
   "metadata": {},
   "outputs": [
    {
     "data": {
      "text/plain": [
       "0    205312\n",
       "1         2\n",
       "Name: PERFORM_CNS.SCORE : Not Scored: More than 50 active Accounts found, dtype: int64"
      ]
     },
     "execution_count": 86,
     "metadata": {},
     "output_type": "execute_result"
    }
   ],
   "source": [
    "X_resampled['PERFORM_CNS.SCORE : Not Scored: More than 50 active Accounts found'].value_counts()"
   ]
  },
  {
   "cell_type": "markdown",
   "metadata": {},
   "source": [
    "Since the distribution of the two classes are extremely imbalanced for this variable, we drop it before building tree models."
   ]
  },
  {
   "cell_type": "code",
   "execution_count": 92,
   "metadata": {},
   "outputs": [],
   "source": [
    "X_resampled = X_resampled.drop(columns='PERFORM_CNS.SCORE : Not Scored: More than 50 active Accounts found', axis=1)\n",
    "X_valid = X_valid.drop(columns='PERFORM_CNS.SCORE : Not Scored: More than 50 active Accounts found', axis=1)"
   ]
  },
  {
   "cell_type": "markdown",
   "metadata": {},
   "source": [
    "3.2 Random Forest"
   ]
  },
  {
   "cell_type": "code",
   "execution_count": 25,
   "metadata": {},
   "outputs": [
    {
     "data": {
      "text/plain": [
       "Pipeline(steps=[('standardize', StandardScaler()),\n",
       "                ('rf', RandomForestClassifier(n_estimators=40))])"
      ]
     },
     "execution_count": 25,
     "metadata": {},
     "output_type": "execute_result"
    }
   ],
   "source": [
    "from sklearn.ensemble import RandomForestClassifier\n",
    "\n",
    "model2 = RandomForestClassifier(n_estimators = 40)  # tree based algorithms don't need scaling\n",
    "\n",
    "model2.fit(X_resampled, y_resampled)"
   ]
  },
  {
   "cell_type": "code",
   "execution_count": 26,
   "metadata": {},
   "outputs": [
    {
     "name": "stdout",
     "output_type": "stream",
     "text": [
      "Confusion matrix:\n",
      " [[102657      0]\n",
      " [     4 102653]]\n",
      "Training accuracy: 99.9981 %\n",
      "Training AUC: 100.0000 %\n"
     ]
    }
   ],
   "source": [
    "y_train_hat = model2.predict(X_resampled)\n",
    "y_train_hat_probs = model2.predict_proba(X_resampled)[:,1]\n",
    "train_accuracy = accuracy_score(y_resampled, y_train_hat)*100\n",
    "train_auc_roc = roc_auc_score(y_resampled, y_train_hat_probs)*100\n",
    "print('Confusion matrix:\\n', confusion_matrix(y_resampled, y_train_hat))\n",
    "print('Training accuracy: %.4f %%' % train_accuracy)\n",
    "print('Training AUC: %.4f %%' % train_auc_roc)"
   ]
  },
  {
   "cell_type": "code",
   "execution_count": 27,
   "metadata": {},
   "outputs": [
    {
     "name": "stdout",
     "output_type": "stream",
     "text": [
      "Confusion matrix:\n",
      " [[32763  1328]\n",
      " [ 8717   909]]\n",
      "Testing accuracy: 77.0227 %\n",
      "Testing AUC: 62.9907 %\n"
     ]
    }
   ],
   "source": [
    "y_test_hat = model2.predict(X_valid)\n",
    "y_test_hat_probs = model2.predict_proba(X_valid)[:,1]\n",
    "test_accuracy = accuracy_score(y_valid, y_test_hat)*100\n",
    "test_auc_roc = roc_auc_score(y_valid, y_test_hat_probs)*100\n",
    "print('Confusion matrix:\\n', confusion_matrix(y_valid, y_test_hat))\n",
    "print('Testing accuracy: %.4f %%' % test_accuracy)\n",
    "print('Testing AUC: %.4f %%' % test_auc_roc)"
   ]
  },
  {
   "cell_type": "code",
   "execution_count": 28,
   "metadata": {},
   "outputs": [
    {
     "name": "stdout",
     "output_type": "stream",
     "text": [
      "              precision    recall  f1-score   support\n",
      "\n",
      "           0   0.789851  0.961045  0.867079     34091\n",
      "           1   0.406348  0.094432  0.153250      9626\n",
      "\n",
      "    accuracy                       0.770227     43717\n",
      "   macro avg   0.598099  0.527739  0.510164     43717\n",
      "weighted avg   0.705407  0.770227  0.709901     43717\n",
      "\n"
     ]
    }
   ],
   "source": [
    "print(classification_report(y_valid, y_test_hat, digits=6))"
   ]
  },
  {
   "cell_type": "markdown",
   "metadata": {},
   "source": [
    "From the report we can see, the f1 score of samples with label 1 is 0.15 in model2. The precision is improved to 0.4 but the recall is unbelievably low at 0.09. This result is not satisfactory and shows the poor performance of random forest classifier even oversampling the minority class before plugging into the model."
   ]
  },
  {
   "cell_type": "markdown",
   "metadata": {},
   "source": [
    "3.3 Xgboost"
   ]
  },
  {
   "cell_type": "code",
   "execution_count": 90,
   "metadata": {},
   "outputs": [
    {
     "name": "stderr",
     "output_type": "stream",
     "text": [
      "/Users/xingqizhong/opt/anaconda3/lib/python3.8/site-packages/xgboost/sklearn.py:888: UserWarning: The use of label encoder in XGBClassifier is deprecated and will be removed in a future release. To remove this warning, do the following: 1) Pass option use_label_encoder=False when constructing XGBClassifier object; and 2) Encode your labels (y) as integers starting with 0, i.e. 0, 1, 2, ..., [num_class - 1].\n",
      "  warnings.warn(label_encoder_deprecation_msg, UserWarning)\n"
     ]
    },
    {
     "name": "stdout",
     "output_type": "stream",
     "text": [
      "[17:34:08] WARNING: /opt/concourse/worker/volumes/live/7a2b9f41-3287-451b-6691-43e9a6c0910f/volume/xgboost-split_1619728204606/work/src/learner.cc:1061: Starting in XGBoost 1.3.0, the default evaluation metric used with the objective 'binary:logistic' was changed from 'error' to 'logloss'. Explicitly set eval_metric if you'd like to restore the old behavior.\n"
     ]
    },
    {
     "data": {
      "text/plain": [
       "XGBClassifier(base_score=0.5, booster='gbtree', colsample_bylevel=1,\n",
       "              colsample_bynode=1, colsample_bytree=1, gamma=0, gpu_id=-1,\n",
       "              importance_type='gain', interaction_constraints='',\n",
       "              learning_rate=0.300000012, max_delta_step=0, max_depth=6,\n",
       "              min_child_weight=1, missing=nan, monotone_constraints='()',\n",
       "              n_estimators=40, n_jobs=8, num_parallel_tree=1, random_state=0,\n",
       "              reg_alpha=0, reg_lambda=1, scale_pos_weight=1, subsample=1,\n",
       "              tree_method='exact', validate_parameters=1, verbosity=None)"
      ]
     },
     "execution_count": 90,
     "metadata": {},
     "output_type": "execute_result"
    }
   ],
   "source": [
    "from xgboost import XGBClassifier\n",
    "\n",
    "model3 = XGBClassifier(n_estimators=40)\n",
    "\n",
    "model3.fit(X_resampled, y_resampled)"
   ]
  },
  {
   "cell_type": "code",
   "execution_count": 22,
   "metadata": {},
   "outputs": [
    {
     "name": "stdout",
     "output_type": "stream",
     "text": [
      "Confusion matrix:\n",
      " [[64811 37846]\n",
      " [28884 73773]]\n",
      "Training accuracy: 67.4986 %\n",
      "Training AUC: 74.0667 %\n"
     ]
    }
   ],
   "source": [
    "y_train_hat = model3.predict(X_resampled)\n",
    "y_train_hat_probs = model3.predict_proba(X_resampled)[:,1]\n",
    "train_accuracy = accuracy_score(y_resampled, y_train_hat)*100\n",
    "train_auc_roc = roc_auc_score(y_resampled, y_train_hat_probs)*100\n",
    "print('Confusion matrix:\\n', confusion_matrix(y_resampled, y_train_hat))\n",
    "print('Training accuracy: %.4f %%' % train_accuracy)\n",
    "print('Training AUC: %.4f %%' % train_auc_roc)"
   ]
  },
  {
   "cell_type": "code",
   "execution_count": 32,
   "metadata": {},
   "outputs": [
    {
     "name": "stdout",
     "output_type": "stream",
     "text": [
      "Confusion matrix:\n",
      " [[20644 13447]\n",
      " [ 3674  5952]]\n",
      "Testing accuracy: 60.8367 %\n",
      "Testing AUC: 65.4771 %\n"
     ]
    }
   ],
   "source": [
    "y_test_hat = model3.predict(X_valid)\n",
    "y_test_hat_probs = model3.predict_proba(X_valid)[:,1]\n",
    "test_accuracy = accuracy_score(y_valid, y_test_hat)*100\n",
    "test_auc_roc = roc_auc_score(y_valid, y_test_hat_probs)*100\n",
    "print('Confusion matrix:\\n', confusion_matrix(y_valid, y_test_hat))\n",
    "print('Testing accuracy: %.4f %%' % test_accuracy)\n",
    "print('Testing AUC: %.4f %%' % test_auc_roc)"
   ]
  },
  {
   "cell_type": "code",
   "execution_count": 33,
   "metadata": {},
   "outputs": [
    {
     "name": "stdout",
     "output_type": "stream",
     "text": [
      "              precision    recall  f1-score   support\n",
      "\n",
      "           0   0.848918  0.605556  0.706877     34091\n",
      "           1   0.306820  0.618325  0.410129      9626\n",
      "\n",
      "    accuracy                       0.608367     43717\n",
      "   macro avg   0.577869  0.611941  0.558503     43717\n",
      "weighted avg   0.729554  0.608367  0.641537     43717\n",
      "\n"
     ]
    }
   ],
   "source": [
    "print(classification_report(y_valid, y_test_hat, digits=6))"
   ]
  },
  {
   "cell_type": "markdown",
   "metadata": {},
   "source": [
    "We can see that the f1 score for sample with label 1 is 0.41. The precision is 0.3 and the recall is 0.6. This shows that the default samples are predicted with good accuracy and are also decently catched, which is a relatively satisfactory performance of model3."
   ]
  },
  {
   "cell_type": "markdown",
   "metadata": {},
   "source": [
    "3.4 Hyperparameter tuning"
   ]
  },
  {
   "cell_type": "markdown",
   "metadata": {},
   "source": [
    "To further improve the performance of model3, we use the random search method for hyperparameter tuning, and get a even better prediction result on the valid set."
   ]
  },
  {
   "cell_type": "code",
   "execution_count": 93,
   "metadata": {},
   "outputs": [
    {
     "name": "stdout",
     "output_type": "stream",
     "text": [
      "Fitting 5 folds for each of 15 candidates, totalling 75 fits\n"
     ]
    },
    {
     "name": "stderr",
     "output_type": "stream",
     "text": [
      "/Users/xingqizhong/opt/anaconda3/lib/python3.8/site-packages/joblib/externals/loky/process_executor.py:688: UserWarning: A worker stopped while some jobs were given to the executor. This can be caused by a too short worker timeout or by a memory leak.\n",
      "  warnings.warn(\n",
      "/Users/xingqizhong/opt/anaconda3/lib/python3.8/site-packages/xgboost/sklearn.py:888: UserWarning: The use of label encoder in XGBClassifier is deprecated and will be removed in a future release. To remove this warning, do the following: 1) Pass option use_label_encoder=False when constructing XGBClassifier object; and 2) Encode your labels (y) as integers starting with 0, i.e. 0, 1, 2, ..., [num_class - 1].\n",
      "  warnings.warn(label_encoder_deprecation_msg, UserWarning)\n"
     ]
    },
    {
     "name": "stdout",
     "output_type": "stream",
     "text": [
      "[17:48:56] WARNING: /opt/concourse/worker/volumes/live/7a2b9f41-3287-451b-6691-43e9a6c0910f/volume/xgboost-split_1619728204606/work/src/learner.cc:1061: Starting in XGBoost 1.3.0, the default evaluation metric used with the objective 'binary:logistic' was changed from 'error' to 'logloss'. Explicitly set eval_metric if you'd like to restore the old behavior.\n"
     ]
    }
   ],
   "source": [
    "from sklearn.model_selection import RandomizedSearchCV\n",
    "params = {\n",
    "        'min_child_weight': [1, 5, 10],\n",
    "        'gamma': [0.5, 1, 1.5, 2, 5],\n",
    "        'subsample': [0.6, 0.8, 1.0],\n",
    "        'colsample_bytree': [0.6, 0.8, 1.0],\n",
    "        'max_depth': [3, 4, 5]\n",
    "        }\n",
    "\n",
    "grid_obj_xgb = RandomizedSearchCV(model3,params, cv=5,n_iter=15,scoring='roc_auc',verbose=5,n_jobs=12,return_train_score=True,random_state=121)\n",
    "grid_obj_xgb.fit(X_resampled, y_resampled,verbose = 1)\n",
    "\n",
    "y_pred_train = grid_obj_xgb.predict(X_valid)"
   ]
  },
  {
   "cell_type": "code",
   "execution_count": 68,
   "metadata": {},
   "outputs": [
    {
     "name": "stdout",
     "output_type": "stream",
     "text": [
      "              precision    recall  f1-score   support\n",
      "\n",
      "           0   0.873201  0.601302  0.712182     27349\n",
      "           1   0.324411  0.686779  0.440667      7624\n",
      "\n",
      "    accuracy                       0.619935     34973\n",
      "   macro avg   0.598806  0.644040  0.576424     34973\n",
      "weighted avg   0.753567  0.619935  0.652993     34973\n",
      "\n"
     ]
    }
   ],
   "source": [
    "print(classification_report(y_valid, y_pred_train, digits=6))"
   ]
  },
  {
   "cell_type": "code",
   "execution_count": 69,
   "metadata": {},
   "outputs": [
    {
     "data": {
      "image/png": "[encoded data removed]",
      "text/plain": [
       "<Figure size 648x432 with 1 Axes>"
      ]
     },
     "metadata": {
      "needs_background": "light"
     },
     "output_type": "display_data"
    }
   ],
   "source": [
    "y_test_hat_probs = grid_obj_xgb.predict_proba(X_valid)[:,1]\n",
    "\n",
    "fpr, tpr, thresholds = roc_curve(y_valid, y_test_hat_probs, drop_intermediate=True)\n",
    "\n",
    "f, ax = plt.subplots(figsize=(9, 6))\n",
    "_ = plt.plot(fpr, tpr, [0,1], [0, 1])\n",
    "_ = plt.title('AUC ROC')\n",
    "_ = plt.xlabel('False positive rate')\n",
    "_ = plt.ylabel('True positive rate')\n",
    "plt.style.use('seaborn')\n",
    "\n",
    "plt.savefig('auc_roc.png', dpi=600)"
   ]
  },
  {
   "cell_type": "markdown",
   "metadata": {},
   "source": [
    "4 Preprocessing and prediction of the test set"
   ]
  },
  {
   "cell_type": "markdown",
   "metadata": {},
   "source": [
    "The preprocessing process is the same as that of the training set."
   ]
  },
  {
   "cell_type": "code",
   "execution_count": 96,
   "metadata": {
    "collapsed": true
   },
   "outputs": [
    {
     "data": {
      "text/html": [
       "<div>\n",
       "<style scoped>\n",
       "    .dataframe tbody tr th:only-of-type {\n",
       "        vertical-align: middle;\n",
       "    }\n",
       "\n",
       "    .dataframe tbody tr th {\n",
       "        vertical-align: top;\n",
       "    }\n",
       "\n",
       "    .dataframe thead th {\n",
       "        text-align: right;\n",
       "    }\n",
       "</style>\n",
       "<table border=\"1\" class=\"dataframe\">\n",
       "  <thead>\n",
       "    <tr style=\"text-align: right;\">\n",
       "      <th></th>\n",
       "      <th>UniqueID</th>\n",
       "      <th>disbursed_amount</th>\n",
       "      <th>asset_cost</th>\n",
       "      <th>ltv</th>\n",
       "      <th>branch_id</th>\n",
       "      <th>supplier_id</th>\n",
       "      <th>manufacturer_id</th>\n",
       "      <th>Current_pincode_ID</th>\n",
       "      <th>Employment.Type</th>\n",
       "      <th>State_ID</th>\n",
       "      <th>...</th>\n",
       "      <th>Date.of.Birth_year</th>\n",
       "      <th>Date.of.Birth_month</th>\n",
       "      <th>Date.of.Birth_day</th>\n",
       "      <th>DisbursalDate_year</th>\n",
       "      <th>DisbursalDate_month</th>\n",
       "      <th>DisbursalDate_day</th>\n",
       "      <th>AVERAGE.ACCT.AGE_year</th>\n",
       "      <th>AVERAGE.ACCT.AGE_month</th>\n",
       "      <th>CREDIT.HISTORY.LENGTH_year</th>\n",
       "      <th>CREDIT.HISTORY.LENGTH_month</th>\n",
       "    </tr>\n",
       "  </thead>\n",
       "  <tbody>\n",
       "    <tr>\n",
       "      <th>0</th>\n",
       "      <td>605959</td>\n",
       "      <td>58259</td>\n",
       "      <td>73838</td>\n",
       "      <td>79.90</td>\n",
       "      <td>146</td>\n",
       "      <td>17921</td>\n",
       "      <td>86</td>\n",
       "      <td>2970</td>\n",
       "      <td>Self employed</td>\n",
       "      <td>14</td>\n",
       "      <td>...</td>\n",
       "      <td>1986</td>\n",
       "      <td>1</td>\n",
       "      <td>1</td>\n",
       "      <td>2018</td>\n",
       "      <td>10</td>\n",
       "      <td>23</td>\n",
       "      <td>1</td>\n",
       "      <td>6</td>\n",
       "      <td>3</td>\n",
       "      <td>4</td>\n",
       "    </tr>\n",
       "    <tr>\n",
       "      <th>1</th>\n",
       "      <td>455801</td>\n",
       "      <td>49558</td>\n",
       "      <td>71644</td>\n",
       "      <td>72.58</td>\n",
       "      <td>20</td>\n",
       "      <td>22882</td>\n",
       "      <td>86</td>\n",
       "      <td>6181</td>\n",
       "      <td>Salaried</td>\n",
       "      <td>5</td>\n",
       "      <td>...</td>\n",
       "      <td>1976</td>\n",
       "      <td>5</td>\n",
       "      <td>4</td>\n",
       "      <td>2018</td>\n",
       "      <td>8</td>\n",
       "      <td>22</td>\n",
       "      <td>0</td>\n",
       "      <td>0</td>\n",
       "      <td>0</td>\n",
       "      <td>0</td>\n",
       "    </tr>\n",
       "    <tr>\n",
       "      <th>2</th>\n",
       "      <td>437173</td>\n",
       "      <td>42710</td>\n",
       "      <td>67681</td>\n",
       "      <td>65.01</td>\n",
       "      <td>251</td>\n",
       "      <td>20514</td>\n",
       "      <td>45</td>\n",
       "      <td>6863</td>\n",
       "      <td>Self employed</td>\n",
       "      <td>13</td>\n",
       "      <td>...</td>\n",
       "      <td>1981</td>\n",
       "      <td>10</td>\n",
       "      <td>1</td>\n",
       "      <td>2018</td>\n",
       "      <td>8</td>\n",
       "      <td>14</td>\n",
       "      <td>0</td>\n",
       "      <td>0</td>\n",
       "      <td>0</td>\n",
       "      <td>0</td>\n",
       "    </tr>\n",
       "    <tr>\n",
       "      <th>3</th>\n",
       "      <td>565974</td>\n",
       "      <td>80233</td>\n",
       "      <td>96523</td>\n",
       "      <td>84.95</td>\n",
       "      <td>138</td>\n",
       "      <td>20470</td>\n",
       "      <td>86</td>\n",
       "      <td>3366</td>\n",
       "      <td>Self employed</td>\n",
       "      <td>9</td>\n",
       "      <td>...</td>\n",
       "      <td>1978</td>\n",
       "      <td>5</td>\n",
       "      <td>17</td>\n",
       "      <td>2018</td>\n",
       "      <td>10</td>\n",
       "      <td>9</td>\n",
       "      <td>0</td>\n",
       "      <td>0</td>\n",
       "      <td>0</td>\n",
       "      <td>0</td>\n",
       "    </tr>\n",
       "    <tr>\n",
       "      <th>4</th>\n",
       "      <td>504124</td>\n",
       "      <td>46549</td>\n",
       "      <td>62590</td>\n",
       "      <td>79.88</td>\n",
       "      <td>74</td>\n",
       "      <td>16846</td>\n",
       "      <td>45</td>\n",
       "      <td>2610</td>\n",
       "      <td>Salaried</td>\n",
       "      <td>4</td>\n",
       "      <td>...</td>\n",
       "      <td>1987</td>\n",
       "      <td>7</td>\n",
       "      <td>23</td>\n",
       "      <td>2018</td>\n",
       "      <td>9</td>\n",
       "      <td>14</td>\n",
       "      <td>0</td>\n",
       "      <td>3</td>\n",
       "      <td>0</td>\n",
       "      <td>7</td>\n",
       "    </tr>\n",
       "    <tr>\n",
       "      <th>...</th>\n",
       "      <td>...</td>\n",
       "      <td>...</td>\n",
       "      <td>...</td>\n",
       "      <td>...</td>\n",
       "      <td>...</td>\n",
       "      <td>...</td>\n",
       "      <td>...</td>\n",
       "      <td>...</td>\n",
       "      <td>...</td>\n",
       "      <td>...</td>\n",
       "      <td>...</td>\n",
       "      <td>...</td>\n",
       "      <td>...</td>\n",
       "      <td>...</td>\n",
       "      <td>...</td>\n",
       "      <td>...</td>\n",
       "      <td>...</td>\n",
       "      <td>...</td>\n",
       "      <td>...</td>\n",
       "      <td>...</td>\n",
       "      <td>...</td>\n",
       "    </tr>\n",
       "    <tr>\n",
       "      <th>58284</th>\n",
       "      <td>544324</td>\n",
       "      <td>47899</td>\n",
       "      <td>59400</td>\n",
       "      <td>82.15</td>\n",
       "      <td>15</td>\n",
       "      <td>14441</td>\n",
       "      <td>45</td>\n",
       "      <td>295</td>\n",
       "      <td>Salaried</td>\n",
       "      <td>11</td>\n",
       "      <td>...</td>\n",
       "      <td>1983</td>\n",
       "      <td>1</td>\n",
       "      <td>1</td>\n",
       "      <td>2018</td>\n",
       "      <td>9</td>\n",
       "      <td>28</td>\n",
       "      <td>0</td>\n",
       "      <td>0</td>\n",
       "      <td>0</td>\n",
       "      <td>0</td>\n",
       "    </tr>\n",
       "    <tr>\n",
       "      <th>58285</th>\n",
       "      <td>590377</td>\n",
       "      <td>54513</td>\n",
       "      <td>67399</td>\n",
       "      <td>83.09</td>\n",
       "      <td>67</td>\n",
       "      <td>16640</td>\n",
       "      <td>45</td>\n",
       "      <td>1461</td>\n",
       "      <td>Salaried</td>\n",
       "      <td>6</td>\n",
       "      <td>...</td>\n",
       "      <td>1976</td>\n",
       "      <td>11</td>\n",
       "      <td>21</td>\n",
       "      <td>2018</td>\n",
       "      <td>10</td>\n",
       "      <td>20</td>\n",
       "      <td>0</td>\n",
       "      <td>0</td>\n",
       "      <td>0</td>\n",
       "      <td>0</td>\n",
       "    </tr>\n",
       "    <tr>\n",
       "      <th>58286</th>\n",
       "      <td>583011</td>\n",
       "      <td>63947</td>\n",
       "      <td>72360</td>\n",
       "      <td>89.83</td>\n",
       "      <td>62</td>\n",
       "      <td>16739</td>\n",
       "      <td>45</td>\n",
       "      <td>383</td>\n",
       "      <td>Self employed</td>\n",
       "      <td>11</td>\n",
       "      <td>...</td>\n",
       "      <td>1980</td>\n",
       "      <td>1</td>\n",
       "      <td>1</td>\n",
       "      <td>2018</td>\n",
       "      <td>10</td>\n",
       "      <td>16</td>\n",
       "      <td>0</td>\n",
       "      <td>11</td>\n",
       "      <td>2</td>\n",
       "      <td>0</td>\n",
       "    </tr>\n",
       "    <tr>\n",
       "      <th>58287</th>\n",
       "      <td>549585</td>\n",
       "      <td>53803</td>\n",
       "      <td>67774</td>\n",
       "      <td>81.15</td>\n",
       "      <td>18</td>\n",
       "      <td>14234</td>\n",
       "      <td>86</td>\n",
       "      <td>2694</td>\n",
       "      <td>Self employed</td>\n",
       "      <td>4</td>\n",
       "      <td>...</td>\n",
       "      <td>1979</td>\n",
       "      <td>12</td>\n",
       "      <td>29</td>\n",
       "      <td>2018</td>\n",
       "      <td>9</td>\n",
       "      <td>29</td>\n",
       "      <td>3</td>\n",
       "      <td>9</td>\n",
       "      <td>10</td>\n",
       "      <td>7</td>\n",
       "    </tr>\n",
       "    <tr>\n",
       "      <th>58288</th>\n",
       "      <td>484963</td>\n",
       "      <td>55459</td>\n",
       "      <td>63244</td>\n",
       "      <td>89.65</td>\n",
       "      <td>15</td>\n",
       "      <td>14336</td>\n",
       "      <td>86</td>\n",
       "      <td>295</td>\n",
       "      <td>Salaried</td>\n",
       "      <td>11</td>\n",
       "      <td>...</td>\n",
       "      <td>1978</td>\n",
       "      <td>3</td>\n",
       "      <td>2</td>\n",
       "      <td>2018</td>\n",
       "      <td>8</td>\n",
       "      <td>31</td>\n",
       "      <td>0</td>\n",
       "      <td>5</td>\n",
       "      <td>0</td>\n",
       "      <td>10</td>\n",
       "    </tr>\n",
       "  </tbody>\n",
       "</table>\n",
       "<p>58289 rows × 46 columns</p>\n",
       "</div>"
      ],
      "text/plain": [
       "       UniqueID  disbursed_amount  asset_cost    ltv  branch_id  supplier_id  \\\n",
       "0        605959             58259       73838  79.90        146        17921   \n",
       "1        455801             49558       71644  72.58         20        22882   \n",
       "2        437173             42710       67681  65.01        251        20514   \n",
       "3        565974             80233       96523  84.95        138        20470   \n",
       "4        504124             46549       62590  79.88         74        16846   \n",
       "...         ...               ...         ...    ...        ...          ...   \n",
       "58284    544324             47899       59400  82.15         15        14441   \n",
       "58285    590377             54513       67399  83.09         67        16640   \n",
       "58286    583011             63947       72360  89.83         62        16739   \n",
       "58287    549585             53803       67774  81.15         18        14234   \n",
       "58288    484963             55459       63244  89.65         15        14336   \n",
       "\n",
       "       manufacturer_id  Current_pincode_ID Employment.Type  State_ID  ...  \\\n",
       "0                   86                2970   Self employed        14  ...   \n",
       "1                   86                6181        Salaried         5  ...   \n",
       "2                   45                6863   Self employed        13  ...   \n",
       "3                   86                3366   Self employed         9  ...   \n",
       "4                   45                2610        Salaried         4  ...   \n",
       "...                ...                 ...             ...       ...  ...   \n",
       "58284               45                 295        Salaried        11  ...   \n",
       "58285               45                1461        Salaried         6  ...   \n",
       "58286               45                 383   Self employed        11  ...   \n",
       "58287               86                2694   Self employed         4  ...   \n",
       "58288               86                 295        Salaried        11  ...   \n",
       "\n",
       "       Date.of.Birth_year  Date.of.Birth_month  Date.of.Birth_day  \\\n",
       "0                    1986                    1                  1   \n",
       "1                    1976                    5                  4   \n",
       "2                    1981                   10                  1   \n",
       "3                    1978                    5                 17   \n",
       "4                    1987                    7                 23   \n",
       "...                   ...                  ...                ...   \n",
       "58284                1983                    1                  1   \n",
       "58285                1976                   11                 21   \n",
       "58286                1980                    1                  1   \n",
       "58287                1979                   12                 29   \n",
       "58288                1978                    3                  2   \n",
       "\n",
       "       DisbursalDate_year  DisbursalDate_month  DisbursalDate_day  \\\n",
       "0                    2018                   10                 23   \n",
       "1                    2018                    8                 22   \n",
       "2                    2018                    8                 14   \n",
       "3                    2018                   10                  9   \n",
       "4                    2018                    9                 14   \n",
       "...                   ...                  ...                ...   \n",
       "58284                2018                    9                 28   \n",
       "58285                2018                   10                 20   \n",
       "58286                2018                   10                 16   \n",
       "58287                2018                    9                 29   \n",
       "58288                2018                    8                 31   \n",
       "\n",
       "       AVERAGE.ACCT.AGE_year  AVERAGE.ACCT.AGE_month  \\\n",
       "0                          1                       6   \n",
       "1                          0                       0   \n",
       "2                          0                       0   \n",
       "3                          0                       0   \n",
       "4                          0                       3   \n",
       "...                      ...                     ...   \n",
       "58284                      0                       0   \n",
       "58285                      0                       0   \n",
       "58286                      0                      11   \n",
       "58287                      3                       9   \n",
       "58288                      0                       5   \n",
       "\n",
       "      CREDIT.HISTORY.LENGTH_year  CREDIT.HISTORY.LENGTH_month  \n",
       "0                              3                            4  \n",
       "1                              0                            0  \n",
       "2                              0                            0  \n",
       "3                              0                            0  \n",
       "4                              0                            7  \n",
       "...                          ...                          ...  \n",
       "58284                          0                            0  \n",
       "58285                          0                            0  \n",
       "58286                          2                            0  \n",
       "58287                         10                            7  \n",
       "58288                          0                           10  \n",
       "\n",
       "[58289 rows x 46 columns]"
      ]
     },
     "execution_count": 96,
     "metadata": {},
     "output_type": "execute_result"
    }
   ],
   "source": [
    "df = test.copy()\n",
    "\n",
    "# Extract the year, month, day of datetime features\n",
    "df['Date.of.Birth'] = pd.to_datetime(df['Date.of.Birth'], format=\"%d/%m/%Y\")\n",
    "df['Date.of.Birth_year'] = df['Date.of.Birth'].apply(lambda s: s.year, 1)  \n",
    "df['Date.of.Birth_month'] = df['Date.of.Birth'].apply(lambda s: s.month, 1)\n",
    "df['Date.of.Birth_day'] = df['Date.of.Birth'].apply(lambda s: s.day, 1)\n",
    "\n",
    "df['DisbursalDate'] = pd.to_datetime(df['DisbursalDate'], format=\"%d/%m/%Y\")\n",
    "df['DisbursalDate_year'] = df['DisbursalDate'].apply(lambda s: s.year, 1)  \n",
    "df['DisbursalDate_month'] = df['DisbursalDate'].apply(lambda s: s.month, 1)\n",
    "df['DisbursalDate_day'] = df['DisbursalDate'].apply(lambda s: s.day, 1)\n",
    "\n",
    "df['AVERAGE.ACCT.AGE_year'] = df['AVERAGE.ACCT.AGE'].apply(lambda s: re.search('(.+?)yrs', s).group(1), 1)\n",
    "df['AVERAGE.ACCT.AGE_month'] = df['AVERAGE.ACCT.AGE'].apply(lambda s: re.search('yrs (.+?)mon', s).group(1), 1)\n",
    "df['CREDIT.HISTORY.LENGTH_year'] = df['CREDIT.HISTORY.LENGTH'].apply(lambda s: re.search('(.+?)yrs', s).group(1), 1)\n",
    "df['CREDIT.HISTORY.LENGTH_month'] = df['CREDIT.HISTORY.LENGTH'].apply(lambda s: re.search('yrs (.+?)mon', s).group(1), 1)\n",
    "\n",
    "# # Convert the type of newly generated features into numeric\n",
    "df.loc[:,['AVERAGE.ACCT.AGE_year',\n",
    "   'AVERAGE.ACCT.AGE_month',                                                       \n",
    "   'CREDIT.HISTORY.LENGTH_year',                                                   \n",
    "   'CREDIT.HISTORY.LENGTH_month']] = df.loc[:,['AVERAGE.ACCT.AGE_year',\n",
    "   'AVERAGE.ACCT.AGE_month',                                                       \n",
    "   'CREDIT.HISTORY.LENGTH_year',                                                   \n",
    "   'CREDIT.HISTORY.LENGTH_month']].apply(lambda s:pd.to_numeric(s),1)\n",
    "\n",
    "# Drop the original categorical features\n",
    "df.drop(['Date.of.Birth',                      \n",
    "'DisbursalDate', \n",
    "'AVERAGE.ACCT.AGE',                   \n",
    "'CREDIT.HISTORY.LENGTH'], axis=1, inplace=True)\n",
    "df"
   ]
  },
  {
   "cell_type": "code",
   "execution_count": 97,
   "metadata": {},
   "outputs": [],
   "source": [
    "# Replace Date.of.Birth_year with years since Date.of.Birth till now\n",
    "df['yrs_since_birth'] = pd.to_datetime('2022-03-22').year - df['Date.of.Birth_year']   \n",
    "df.drop('Date.of.Birth_year', axis=1, inplace=True)\n",
    "\n",
    "# Drop DisbursalDate_year since it only contains one value: 2018\n",
    "df.drop('DisbursalDate_year', axis=1, inplace=True)   "
   ]
  },
  {
   "cell_type": "code",
   "execution_count": 98,
   "metadata": {},
   "outputs": [
    {
     "data": {
      "text/plain": [
       "Self employed    31890\n",
       "Salaried         24417\n",
       "Name: Employment.Type, dtype: int64"
      ]
     },
     "execution_count": 98,
     "metadata": {},
     "output_type": "execute_result"
    }
   ],
   "source": [
    "# Take a look at the distribution of all possible values of the column with missing values\n",
    "df['Employment.Type'].value_counts()"
   ]
  },
  {
   "cell_type": "code",
   "execution_count": 99,
   "metadata": {},
   "outputs": [
    {
     "data": {
      "text/plain": [
       "Self employed    33872\n",
       "Salaried         24417\n",
       "Name: Employment.Type, dtype: int64"
      ]
     },
     "execution_count": 99,
     "metadata": {},
     "output_type": "execute_result"
    }
   ],
   "source": [
    "# Fill the missing values of Employment.Type with the most frequent type\n",
    "df['Employment.Type'].fillna(df['Employment.Type'].mode()[0], inplace=True)\n",
    "df['Employment.Type'].value_counts()"
   ]
  },
  {
   "cell_type": "code",
   "execution_count": 100,
   "metadata": {},
   "outputs": [],
   "source": [
    "# Convert the categorical features into dummies and replace the original features in the dataframe\n",
    "df_dummies = [pd.get_dummies(df['PERFORM_CNS.SCORE.DESCRIPTION'], prefix = 'PERFORM_CNS.SCORE', prefix_sep = ' : '),\n",
    "              pd.get_dummies(df['Employment.Type'], prefix = 'Employment.Type', prefix_sep = ' : ')]\n",
    "df_dummies = pd.concat(df_dummies, axis = 1)\n",
    "df = pd.concat([df, df_dummies], axis = 1)\n",
    "df.drop(['PERFORM_CNS.SCORE.DESCRIPTION',                      \n",
    "'Employment.Type'], axis=1, inplace=True)"
   ]
  },
  {
   "cell_type": "code",
   "execution_count": 101,
   "metadata": {
    "collapsed": true
   },
   "outputs": [
    {
     "name": "stdout",
     "output_type": "stream",
     "text": [
      "<class 'pandas.core.frame.DataFrame'>\n",
      "RangeIndex: 58289 entries, 0 to 58288\n",
      "Data columns (total 64 columns):\n",
      " #   Column                                                                       Non-Null Count  Dtype  \n",
      "---  ------                                                                       --------------  -----  \n",
      " 0   UniqueID                                                                     58289 non-null  int64  \n",
      " 1   disbursed_amount                                                             58289 non-null  int64  \n",
      " 2   asset_cost                                                                   58289 non-null  int64  \n",
      " 3   ltv                                                                          58289 non-null  float64\n",
      " 4   branch_id                                                                    58289 non-null  int64  \n",
      " 5   supplier_id                                                                  58289 non-null  int64  \n",
      " 6   manufacturer_id                                                              58289 non-null  int64  \n",
      " 7   Current_pincode_ID                                                           58289 non-null  int64  \n",
      " 8   State_ID                                                                     58289 non-null  int64  \n",
      " 9   Employee_code_ID                                                             58289 non-null  int64  \n",
      " 10  MobileNo_Avl_Flag                                                            58289 non-null  int64  \n",
      " 11  Aadhar_flag                                                                  58289 non-null  int64  \n",
      " 12  PAN_flag                                                                     58289 non-null  int64  \n",
      " 13  VoterID_flag                                                                 58289 non-null  int64  \n",
      " 14  Driving_flag                                                                 58289 non-null  int64  \n",
      " 15  Passport_flag                                                                58289 non-null  int64  \n",
      " 16  PERFORM_CNS.SCORE                                                            58289 non-null  int64  \n",
      " 17  PRI.NO.OF.ACCTS                                                              58289 non-null  int64  \n",
      " 18  PRI.ACTIVE.ACCTS                                                             58289 non-null  int64  \n",
      " 19  PRI.OVERDUE.ACCTS                                                            58289 non-null  int64  \n",
      " 20  PRI.CURRENT.BALANCE                                                          58289 non-null  int64  \n",
      " 21  PRI.SANCTIONED.AMOUNT                                                        58289 non-null  int64  \n",
      " 22  PRI.DISBURSED.AMOUNT                                                         58289 non-null  int64  \n",
      " 23  SEC.NO.OF.ACCTS                                                              58289 non-null  int64  \n",
      " 24  SEC.ACTIVE.ACCTS                                                             58289 non-null  int64  \n",
      " 25  SEC.OVERDUE.ACCTS                                                            58289 non-null  int64  \n",
      " 26  SEC.CURRENT.BALANCE                                                          58289 non-null  int64  \n",
      " 27  SEC.SANCTIONED.AMOUNT                                                        58289 non-null  int64  \n",
      " 28  SEC.DISBURSED.AMOUNT                                                         58289 non-null  int64  \n",
      " 29  PRIMARY.INSTAL.AMT                                                           58289 non-null  int64  \n",
      " 30  SEC.INSTAL.AMT                                                               58289 non-null  int64  \n",
      " 31  NEW.ACCTS.IN.LAST.SIX.MONTHS                                                 58289 non-null  int64  \n",
      " 32  DELINQUENT.ACCTS.IN.LAST.SIX.MONTHS                                          58289 non-null  int64  \n",
      " 33  NO.OF_INQUIRIES                                                              58289 non-null  int64  \n",
      " 34  Date.of.Birth_month                                                          58289 non-null  int64  \n",
      " 35  Date.of.Birth_day                                                            58289 non-null  int64  \n",
      " 36  DisbursalDate_month                                                          58289 non-null  int64  \n",
      " 37  DisbursalDate_day                                                            58289 non-null  int64  \n",
      " 38  AVERAGE.ACCT.AGE_year                                                        58289 non-null  int64  \n",
      " 39  AVERAGE.ACCT.AGE_month                                                       58289 non-null  int64  \n",
      " 40  CREDIT.HISTORY.LENGTH_year                                                   58289 non-null  int64  \n",
      " 41  CREDIT.HISTORY.LENGTH_month                                                  58289 non-null  int64  \n",
      " 42  yrs_since_birth                                                              58289 non-null  int64  \n",
      " 43  PERFORM_CNS.SCORE : A-Very Low Risk                                          58289 non-null  uint8  \n",
      " 44  PERFORM_CNS.SCORE : B-Very Low Risk                                          58289 non-null  uint8  \n",
      " 45  PERFORM_CNS.SCORE : C-Very Low Risk                                          58289 non-null  uint8  \n",
      " 46  PERFORM_CNS.SCORE : D-Very Low Risk                                          58289 non-null  uint8  \n",
      " 47  PERFORM_CNS.SCORE : E-Low Risk                                               58289 non-null  uint8  \n",
      " 48  PERFORM_CNS.SCORE : F-Low Risk                                               58289 non-null  uint8  \n",
      " 49  PERFORM_CNS.SCORE : G-Low Risk                                               58289 non-null  uint8  \n",
      " 50  PERFORM_CNS.SCORE : H-Medium Risk                                            58289 non-null  uint8  \n",
      " 51  PERFORM_CNS.SCORE : I-Medium Risk                                            58289 non-null  uint8  \n",
      " 52  PERFORM_CNS.SCORE : J-High Risk                                              58289 non-null  uint8  \n",
      " 53  PERFORM_CNS.SCORE : K-High Risk                                              58289 non-null  uint8  \n",
      " 54  PERFORM_CNS.SCORE : L-Very High Risk                                         58289 non-null  uint8  \n",
      " 55  PERFORM_CNS.SCORE : M-Very High Risk                                         58289 non-null  uint8  \n",
      " 56  PERFORM_CNS.SCORE : No Bureau History Available                              58289 non-null  uint8  \n",
      " 57  PERFORM_CNS.SCORE : Not Scored: No Activity seen on the customer (Inactive)  58289 non-null  uint8  \n",
      " 58  PERFORM_CNS.SCORE : Not Scored: No Updates available in last 36 months       58289 non-null  uint8  \n",
      " 59  PERFORM_CNS.SCORE : Not Scored: Not Enough Info available on the customer    58289 non-null  uint8  \n",
      " 60  PERFORM_CNS.SCORE : Not Scored: Only a Guarantor                             58289 non-null  uint8  \n",
      " 61  PERFORM_CNS.SCORE : Not Scored: Sufficient History Not Available             58289 non-null  uint8  \n",
      " 62  Employment.Type : Salaried                                                   58289 non-null  uint8  \n",
      " 63  Employment.Type : Self employed                                              58289 non-null  uint8  \n",
      "dtypes: float64(1), int64(42), uint8(21)\n",
      "memory usage: 20.3 MB\n"
     ]
    }
   ],
   "source": [
    "# Take a look at all columns of df to see if after data cleansing and preprocessing\n",
    "df.info()"
   ]
  },
  {
   "cell_type": "code",
   "execution_count": 102,
   "metadata": {},
   "outputs": [
    {
     "data": {
      "text/plain": [
       "(58289, 64)"
      ]
     },
     "execution_count": 102,
     "metadata": {},
     "output_type": "execute_result"
    }
   ],
   "source": [
    "df.shape"
   ]
  },
  {
   "cell_type": "code",
   "execution_count": 103,
   "metadata": {},
   "outputs": [],
   "source": [
    "test['loan_default'] = grid_obj_xgb.predict(df)\n",
    "test.to_csv('result.csv')   # save the prediction result to csv"
   ]
  }
 ],
 "metadata": {
  "kernelspec": {
   "display_name": "Python 3",
   "language": "python",
   "name": "python3"
  },
  "language_info": {
   "codemirror_mode": {
    "name": "ipython",
    "version": 3
   },
   "file_extension": ".py",
   "mimetype": "text/x-python",
   "name": "python",
   "nbconvert_exporter": "python",
   "pygments_lexer": "ipython3",
   "version": "3.8.5"
  }
 },
 "nbformat": 4,
 "nbformat_minor": 4
}
